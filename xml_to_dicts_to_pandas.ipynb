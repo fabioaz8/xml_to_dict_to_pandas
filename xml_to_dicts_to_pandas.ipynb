{
 "cells": [
  {
   "cell_type": "markdown",
   "id": "7f187e38",
   "metadata": {},
   "source": [
    "#PRIMEIRO INSTALE TODOS OS PACOTE ABAIXO:"
   ]
  },
  {
   "cell_type": "code",
   "execution_count": 1,
   "id": "dbb208ce",
   "metadata": {},
   "outputs": [
    {
     "name": "stdout",
     "output_type": "stream",
     "text": [
      "Requirement already satisfied: xmltodict in c:\\users\\fabio\\anaconda3\\lib\\site-packages (0.13.0)\n",
      "Requirement already satisfied: pandas in c:\\users\\fabio\\anaconda3\\lib\\site-packages (1.4.4)\n",
      "Requirement already satisfied: pytz>=2020.1 in c:\\users\\fabio\\anaconda3\\lib\\site-packages (from pandas) (2022.1)\n",
      "Requirement already satisfied: numpy>=1.18.5 in c:\\users\\fabio\\anaconda3\\lib\\site-packages (from pandas) (1.21.5)\n",
      "Requirement already satisfied: python-dateutil>=2.8.1 in c:\\users\\fabio\\anaconda3\\lib\\site-packages (from pandas) (2.8.2)\n",
      "Requirement already satisfied: six>=1.5 in c:\\users\\fabio\\anaconda3\\lib\\site-packages (from python-dateutil>=2.8.1->pandas) (1.16.0)\n",
      "Requirement already satisfied: Flask in c:\\users\\fabio\\anaconda3\\lib\\site-packages (1.1.2)\n",
      "Requirement already satisfied: Jinja2>=2.10.1 in c:\\users\\fabio\\anaconda3\\lib\\site-packages (from Flask) (2.11.3)\n",
      "Requirement already satisfied: Werkzeug>=0.15 in c:\\users\\fabio\\anaconda3\\lib\\site-packages (from Flask) (2.0.3)\n",
      "Requirement already satisfied: itsdangerous>=0.24 in c:\\users\\fabio\\anaconda3\\lib\\site-packages (from Flask) (2.0.1)\n",
      "Requirement already satisfied: click>=5.1 in c:\\users\\fabio\\anaconda3\\lib\\site-packages (from Flask) (8.0.4)\n",
      "Requirement already satisfied: colorama in c:\\users\\fabio\\anaconda3\\lib\\site-packages (from click>=5.1->Flask) (0.4.5)\n",
      "Requirement already satisfied: MarkupSafe>=0.23 in c:\\users\\fabio\\anaconda3\\lib\\site-packages (from Jinja2>=2.10.1->Flask) (2.0.1)\n"
     ]
    }
   ],
   "source": [
    "!pip install xmltodict\n",
    "!pip install pandas\n",
    "!pip install Flask"
   ]
  },
  {
   "cell_type": "markdown",
   "id": "755dbbb0",
   "metadata": {},
   "source": [
    "DEPOIS IMPORTE TUDO:"
   ]
  },
  {
   "cell_type": "code",
   "execution_count": 2,
   "id": "f1aba960",
   "metadata": {},
   "outputs": [],
   "source": [
    "import os\n",
    "import xmltodict\n",
    "import pandas as pd\n",
    "from flask import Flask, render_template, request, send_file"
   ]
  },
  {
   "cell_type": "code",
   "execution_count": 4,
   "id": "94d6c714",
   "metadata": {},
   "outputs": [
    {
     "name": "stdout",
     "output_type": "stream",
     "text": [
      " * Serving Flask app \"__main__\" (lazy loading)\n",
      " * Environment: production\n",
      "\u001b[31m   WARNING: This is a development server. Do not use it in a production deployment.\u001b[0m\n",
      "\u001b[2m   Use a production WSGI server instead.\u001b[0m\n",
      " * Debug mode: on\n"
     ]
    },
    {
     "name": "stderr",
     "output_type": "stream",
     "text": [
      " * Running on http://127.0.0.1:5000/ (Press CTRL+C to quit)\n"
     ]
    }
   ],
   "source": [
    "app = Flask(__name__)\n",
    "\n",
    "@app.route('/')\n",
    "def index():\n",
    "    return render_template('index.html')\n",
    "\n",
    "@app.route('/upload', methods=['POST'])\n",
    "def upload():\n",
    "    uploaded_file = request.files['file']\n",
    "    if uploaded_file.filename != '':\n",
    "        uploaded_file.save(uploaded_file.filename)\n",
    "        process_xml(uploaded_file.filename)\n",
    "        return 'Arquivo enviado com sucesso e processado!'\n",
    "    return 'Nenhum arquivo selecionado.'\n",
    "\n",
    "def process_xml(filename):\n",
    "    with open(filename, \"rb\") as file_xml:\n",
    "        dic_arquivo = xmltodict.parse(file_xml)\n",
    "\n",
    "    # ALTERE AQUI PARA OS CAMPOS PRESENTES DO SEU ARQUIVO .XML -> \n",
    "    # NESTE CÓDIGO É NECESSÁRIO USAR O ARQUIVO DE EXEMPLO 'teste2'\n",
    "    contacts = dic_arquivo[\"contact-info\"]\n",
    "\n",
    "    colunas = [\"Nome\", \"Company\", \"Contact\"]\n",
    "    valores = []\n",
    "\n",
    "    for contact_key, contact_data in contacts.items():\n",
    "        Nome = contact_data[\"name\"]\n",
    "        Company = contact_data[\"company\"]\n",
    "        Contact = contact_data[\"phone\"]\n",
    "\n",
    "        valores.append([Nome, Company, Contact])\n",
    "\n",
    "    tabela = pd.DataFrame(columns=colunas, data=valores)\n",
    "    tabela.to_excel(\"Export_file.xlsx\", index=False)\n",
    "\n",
    "if __name__ == '__main__':\n",
    "    app.run(debug=True, use_reloader=False)"
   ]
  },
  {
   "cell_type": "code",
   "execution_count": null,
   "id": "f6b58182",
   "metadata": {},
   "outputs": [],
   "source": []
  }
 ],
 "metadata": {
  "kernelspec": {
   "display_name": "Python 3 (ipykernel)",
   "language": "python",
   "name": "python3"
  },
  "language_info": {
   "codemirror_mode": {
    "name": "ipython",
    "version": 3
   },
   "file_extension": ".py",
   "mimetype": "text/x-python",
   "name": "python",
   "nbconvert_exporter": "python",
   "pygments_lexer": "ipython3",
   "version": "3.9.13"
  }
 },
 "nbformat": 4,
 "nbformat_minor": 5
}
