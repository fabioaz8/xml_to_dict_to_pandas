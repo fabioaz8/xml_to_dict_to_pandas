{
 "cells": [
  {
   "cell_type": "markdown",
   "id": "7f187e38",
   "metadata": {},
   "source": [
    "#PRIMEIRO INSTALE TODOS OS PACOTE ABAIXO:"
   ]
  },
  {
   "cell_type": "code",
   "execution_count": 1,
   "id": "dbb208ce",
   "metadata": {},   
   "source": [
    "!pip install xmltodict\n",
    "!pip install pandas\n",
    "!pip install Flask"
   ]
  },
  {
   "cell_type": "markdown",
   "id": "755dbbb0",
   "metadata": {},
   "source": [
    "DEPOIS IMPORTE TUDO:"
   ]
  },
  {
   "cell_type": "code",
   "execution_count": 2,
   "id": "f1aba960",
   "metadata": {},
   "outputs": [],
   "source": [
    "import os\n",
    "import xmltodict\n",
    "import pandas as pd\n",
    "from flask import Flask, render_template, request, send_file"
   ]
  },
  {
   "cell_type": "code",
   "execution_count": 4,
   "id": "94d6c714",
   "metadata": {},
   "outputs": [
    {
     "name": "stdout",
     "output_type": "stream",
     "text": [
      " * Serving Flask app \"__main__\" (lazy loading)\n",
      " * Environment: production\n",
      "\u001b[31m   WARNING: This is a development server. Do not use it in a production deployment.\u001b[0m\n",
      "\u001b[2m   Use a production WSGI server instead.\u001b[0m\n",
      " * Debug mode: on\n"
     ]
    },
    {
     "name": "stderr",
     "output_type": "stream",
     "text": [
      " * Running on http://127.0.0.1:5000/ (Press CTRL+C to quit)\n"
     ]
    }
   ],
   "source": [
    "app = Flask(__name__)\n",
    "\n",
    "@app.route('/')\n",
    "def index():\n",
    "    return render_template('index.html')\n",
    "\n",
    "@app.route('/upload', methods=['POST'])\n",
    "def upload():\n",
    "    uploaded_file = request.files['file']\n",
    "    if uploaded_file.filename != '':\n",
    "        uploaded_file.save(uploaded_file.filename)\n",
    "        process_xml(uploaded_file.filename)\n",
    "        return 'Arquivo enviado com sucesso e processado!'\n",
    "    return 'Nenhum arquivo selecionado.'\n",
    "\n",
    "def process_xml(filename):\n",
    "    with open(filename, \"rb\") as file_xml:\n",
    "        dic_arquivo = xmltodict.parse(file_xml)\n",
    "\n",
    "    # ALTERE AQUI PARA OS CAMPOS PRESENTES DO SEU ARQUIVO .XML -> \n",
    "    # NESTE CÓDIGO É NECESSÁRIO USAR O ARQUIVO DE EXEMPLO 'Example.xml'\n",
    "    contacts = dic_arquivo[\"contact-info\"]\n",
    "\n",
    "    colunas = [\"Nome\", \"Company\", \"Contact\"]\n",
    "    valores = []\n",
    "\n",
    "    for contact_key, contact_data in contacts.items():\n",
    "        Nome = contact_data[\"name\"]\n",
    "        Company = contact_data[\"company\"]\n",
    "        Contact = contact_data[\"phone\"]\n",
    "\n",
    "        valores.append([Nome, Company, Contact])\n",
    "\n",
    "    tabela = pd.DataFrame(columns=colunas, data=valores)\n",
    "    tabela.to_excel(\"Export_file.xlsx\", index=False)\n",
    "\n",
    "if __name__ == '__main__':\n",
    "    app.run(debug=True, use_reloader=False)"
   ]
  },
  {
   "cell_type": "code",
   "execution_count": null,
   "id": "f6b58182",
   "metadata": {},
   "outputs": [],
   "source": []
  }
 ],
 "metadata": {
  "kernelspec": {
   "display_name": "Python 3 (ipykernel)",
   "language": "python",
   "name": "python3"
  },
  "language_info": {
   "codemirror_mode": {
    "name": "ipython",
    "version": 3
   },
   "file_extension": ".py",
   "mimetype": "text/x-python",
   "name": "python",
   "nbconvert_exporter": "python",
   "pygments_lexer": "ipython3",
   "version": "3.9.13"
  }
 },
 "nbformat": 4,
 "nbformat_minor": 5
}
